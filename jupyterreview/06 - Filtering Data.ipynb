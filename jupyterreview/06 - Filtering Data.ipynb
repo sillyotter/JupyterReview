{
 "cells": [
  {
   "cell_type": "markdown",
   "source": [
    "# Filtering\n",
    "\n",
    "Earlier, we mentioned that most of our notebooks, and even some of our individual cells, follow a fairly standard pattern:\n",
    "\n",
    "1. Read Data\n",
    "2. Clean Data\n",
    "3. **Filter Data**\n",
    "4. Process Data\n",
    "5. Output Data\n",
    "\n",
    "This article will be about filtering data.\n",
    "\n",
    "Once you have a good dataset in memory, your going to want to do stuff to that dataset.\n",
    "\n",
    "Sometimes though, there is more data in the dataset than you really need.  Perhaps you only want to work on a small subset, a few weeks of data for instance. Maybe you want to throw out any rows that you know have nothing to do with your problem based on some particular columns value.\n",
    "\n",
    "As a result, you will want to do some filtering to get to just the data you need.\n",
    "\n",
    "This phase of the task should be done as early as possible.  The less data in your dataframe, the less work you will have to do to transform it a process it, so its always a good idea to filter the data down to a smaller working set as you go. This may take more than one filter phase, and may require calculations to be done to work out what to filter out, but as a general rule of thumb, once you have a clean typed data frame, try to shrink it down to just what you need."
   ],
   "metadata": {
    "collapsed": false
   },
   "id": "8ccbf64297bb93ce"
  },
  {
   "cell_type": "markdown",
   "source": [
    "## How Filtering Works\n",
    "\n",
    "Lets look at how the pandas filtering works internally.\n",
    "\n",
    "When you do filtering or boolean indexing in pandas, you're specifying conditions to select specific rows (or columns) in the DataFrame (or Series). Here's a general overview of how this works:\n",
    "\n",
    "#### Step 1: Evaluation of the Boolean Condition\n",
    "\n",
    "When you do something like:\n",
    "\n",
    "```python\n",
    "df[df['Age'] > 30]\n",
    "```\n",
    "What happens under the hood is similar to applying the '>' operation to the 'Age' series, and this results in a Boolean series with the same index as that of DataFrame 'df'.\n",
    "\n",
    "#### Step 2: Masking with the Boolean Series\n",
    "\n",
    "This Boolean series is then used to mask the original DataFrame. It returns only the rows where the corresponding value in the Boolean series is True. Any False values result in those rows being dropped from the subset.\n",
    "\n",
    "#### Step 3: Return Subset DataFrame\n",
    "\n",
    "The end result is a new DataFrame that includes only rows that satisfied the condition (or conditions when you use multiple conditions chained together with '&' or '|'). The original DataFrame remains unaltered, unless you assign the result to the original DataFrame.\n",
    "\n",
    "For complex conditions, pandas use bitwise operators (& for and, | for or, ~ for not) instead of the typical python logical operators (and, or, not). For using bitwise operators, each condition has to be enclosed in brackets, as bitwise operators have higher precedence than comparison operators in Python.\n",
    "\n",
    "For functions like isin and str.contains, pandas first figures out which rows (or columns) pass the condition and then the same process of masking happens.\n",
    "\n",
    "It's also important to note that the filtering operation in pandas is quite efficient, especially for large datasets, as under the hood pandas uses a vectorized approach (operating on whole arrays) for these computations. This makes pandas filtering faster and more performant than standard Python looping or list comprehension mechanisms."
   ],
   "metadata": {
    "collapsed": false
   },
   "id": "5f5ff537f8b6ff86"
  },
  {
   "cell_type": "markdown",
   "source": [
    "## Examples\n",
    "\n",
    "Below are some examples of how to filter a pandas DataFrame.\n",
    "\n",
    "Example 1: Filtering a DataFrame based on one condition"
   ],
   "metadata": {
    "collapsed": false
   },
   "id": "86a36780965605fa"
  },
  {
   "cell_type": "code",
   "execution_count": 1,
   "id": "initial_id",
   "metadata": {
    "collapsed": true,
    "ExecuteTime": {
     "end_time": "2023-12-20T18:39:05.457688643Z",
     "start_time": "2023-12-20T18:39:05.234470068Z"
    }
   },
   "outputs": [
    {
     "data": {
      "text/plain": "    Name  Age    City\n2  Peter   35  Berlin\n3  Linda   32  London",
      "text/html": "<div>\n<style scoped>\n    .dataframe tbody tr th:only-of-type {\n        vertical-align: middle;\n    }\n\n    .dataframe tbody tr th {\n        vertical-align: top;\n    }\n\n    .dataframe thead th {\n        text-align: right;\n    }\n</style>\n<table border=\"1\" class=\"dataframe\">\n  <thead>\n    <tr style=\"text-align: right;\">\n      <th></th>\n      <th>Name</th>\n      <th>Age</th>\n      <th>City</th>\n    </tr>\n  </thead>\n  <tbody>\n    <tr>\n      <th>2</th>\n      <td>Peter</td>\n      <td>35</td>\n      <td>Berlin</td>\n    </tr>\n    <tr>\n      <th>3</th>\n      <td>Linda</td>\n      <td>32</td>\n      <td>London</td>\n    </tr>\n  </tbody>\n</table>\n</div>"
     },
     "execution_count": 1,
     "metadata": {},
     "output_type": "execute_result"
    }
   ],
   "source": [
    "import pandas as pd\n",
    "\n",
    "# Assume we have the following DataFrame\n",
    "data = {\n",
    "    'Name': ['John', 'Anna', 'Peter', 'Linda', 'James'],\n",
    "    'Age': [28, 24, 35, 32, 30],\n",
    "    'City': ['New York', 'Paris', 'Berlin', 'London', 'Sydney']\n",
    "}\n",
    "df = pd.DataFrame(data)\n",
    "\n",
    "# Filter the DataFrame to only include rows where Age > 30\n",
    "filtered_df = df[df['Age'] > 30]\n",
    "filtered_df"
   ]
  },
  {
   "cell_type": "markdown",
   "source": [
    "Example 2: Filtering a DataFrame based on multiple conditions"
   ],
   "metadata": {
    "collapsed": false
   },
   "id": "6d3745a392b57a7a"
  },
  {
   "cell_type": "code",
   "execution_count": 2,
   "outputs": [
    {
     "data": {
      "text/plain": "    Name  Age    City\n2  Peter   35  Berlin",
      "text/html": "<div>\n<style scoped>\n    .dataframe tbody tr th:only-of-type {\n        vertical-align: middle;\n    }\n\n    .dataframe tbody tr th {\n        vertical-align: top;\n    }\n\n    .dataframe thead th {\n        text-align: right;\n    }\n</style>\n<table border=\"1\" class=\"dataframe\">\n  <thead>\n    <tr style=\"text-align: right;\">\n      <th></th>\n      <th>Name</th>\n      <th>Age</th>\n      <th>City</th>\n    </tr>\n  </thead>\n  <tbody>\n    <tr>\n      <th>2</th>\n      <td>Peter</td>\n      <td>35</td>\n      <td>Berlin</td>\n    </tr>\n  </tbody>\n</table>\n</div>"
     },
     "execution_count": 2,
     "metadata": {},
     "output_type": "execute_result"
    }
   ],
   "source": [
    "# Filter the DataFrame to include rows where Age > 30 and City is 'Berlin'\n",
    "filtered_df = df[(df['Age'] > 30) & (df['City'] == 'Berlin')]\n",
    "filtered_df"
   ],
   "metadata": {
    "collapsed": false,
    "ExecuteTime": {
     "end_time": "2023-12-20T18:39:05.463456522Z",
     "start_time": "2023-12-20T18:39:05.461690952Z"
    }
   },
   "id": "4ac2839d9c9768fa"
  },
  {
   "cell_type": "markdown",
   "source": [
    "Example 3: Filtering a DataFrame using the isin function"
   ],
   "metadata": {
    "collapsed": false
   },
   "id": "bd303e0aea669790"
  },
  {
   "cell_type": "code",
   "execution_count": 3,
   "outputs": [
    {
     "data": {
      "text/plain": "    Name  Age      City\n0   John   28  New York\n2  Peter   35    Berlin",
      "text/html": "<div>\n<style scoped>\n    .dataframe tbody tr th:only-of-type {\n        vertical-align: middle;\n    }\n\n    .dataframe tbody tr th {\n        vertical-align: top;\n    }\n\n    .dataframe thead th {\n        text-align: right;\n    }\n</style>\n<table border=\"1\" class=\"dataframe\">\n  <thead>\n    <tr style=\"text-align: right;\">\n      <th></th>\n      <th>Name</th>\n      <th>Age</th>\n      <th>City</th>\n    </tr>\n  </thead>\n  <tbody>\n    <tr>\n      <th>0</th>\n      <td>John</td>\n      <td>28</td>\n      <td>New York</td>\n    </tr>\n    <tr>\n      <th>2</th>\n      <td>Peter</td>\n      <td>35</td>\n      <td>Berlin</td>\n    </tr>\n  </tbody>\n</table>\n</div>"
     },
     "execution_count": 3,
     "metadata": {},
     "output_type": "execute_result"
    }
   ],
   "source": [
    "# Filter the DataFrame to include rows where City is either 'New York' or 'Berlin'\n",
    "cities = ['New York', 'Berlin']\n",
    "filtered_df = df[df['City'].isin(cities)]\n",
    "filtered_df"
   ],
   "metadata": {
    "collapsed": false,
    "ExecuteTime": {
     "end_time": "2023-12-20T18:39:05.492804009Z",
     "start_time": "2023-12-20T18:39:05.464130308Z"
    }
   },
   "id": "b7dbf2e06128eb9e"
  },
  {
   "cell_type": "markdown",
   "source": [
    "Example 4: Filtering a DataFrame using the str.contains function (useful for string matching)"
   ],
   "metadata": {
    "collapsed": false
   },
   "id": "c9ee96eaed0067a8"
  },
  {
   "cell_type": "code",
   "execution_count": 4,
   "outputs": [
    {
     "data": {
      "text/plain": "    Name  Age    City\n1   Anna   24   Paris\n3  Linda   32  London\n4  James   30  Sydney",
      "text/html": "<div>\n<style scoped>\n    .dataframe tbody tr th:only-of-type {\n        vertical-align: middle;\n    }\n\n    .dataframe tbody tr th {\n        vertical-align: top;\n    }\n\n    .dataframe thead th {\n        text-align: right;\n    }\n</style>\n<table border=\"1\" class=\"dataframe\">\n  <thead>\n    <tr style=\"text-align: right;\">\n      <th></th>\n      <th>Name</th>\n      <th>Age</th>\n      <th>City</th>\n    </tr>\n  </thead>\n  <tbody>\n    <tr>\n      <th>1</th>\n      <td>Anna</td>\n      <td>24</td>\n      <td>Paris</td>\n    </tr>\n    <tr>\n      <th>3</th>\n      <td>Linda</td>\n      <td>32</td>\n      <td>London</td>\n    </tr>\n    <tr>\n      <th>4</th>\n      <td>James</td>\n      <td>30</td>\n      <td>Sydney</td>\n    </tr>\n  </tbody>\n</table>\n</div>"
     },
     "execution_count": 4,
     "metadata": {},
     "output_type": "execute_result"
    }
   ],
   "source": [
    "# Filter the DataFrame to include rows where Name contains the substring 'a'\n",
    "filtered_df = df[df['Name'].str.contains('a')]\n",
    "filtered_df"
   ],
   "metadata": {
    "collapsed": false,
    "ExecuteTime": {
     "end_time": "2023-12-20T18:39:05.529433004Z",
     "start_time": "2023-12-20T18:39:05.482555577Z"
    }
   },
   "id": "a144bab96bb8ab81"
  },
  {
   "cell_type": "markdown",
   "source": [
    "In practice, you may find that filtering occurs in many steps.  You may do some basic filtering, then run some tasks to generate synthetic columns, for instance, and then filter some more.  The basic point I'm trying to make sure I get across is for a variety of reasons, its a good idea to try to shrink your data set down as small as it can get before you start doing your really complex work.\n",
    "\n",
    "Doing your complex work over fewer rows is going to be faster, and in the world of iterative interactive program exploration that were in, having a nice tight fast retry loop where you keep retrying your experiments and attempts as quickly as possible is very helpful.\n"
   ],
   "metadata": {
    "collapsed": false
   },
   "id": "e721f18258691a1a"
  },
  {
   "cell_type": "code",
   "execution_count": 4,
   "outputs": [],
   "source": [],
   "metadata": {
    "collapsed": false,
    "ExecuteTime": {
     "end_time": "2023-12-20T18:39:05.529685466Z",
     "start_time": "2023-12-20T18:39:05.499934679Z"
    }
   },
   "id": "9d265cd68fd52478"
  }
 ],
 "metadata": {
  "kernelspec": {
   "display_name": "Python 3",
   "language": "python",
   "name": "python3"
  },
  "language_info": {
   "codemirror_mode": {
    "name": "ipython",
    "version": 2
   },
   "file_extension": ".py",
   "mimetype": "text/x-python",
   "name": "python",
   "nbconvert_exporter": "python",
   "pygments_lexer": "ipython2",
   "version": "2.7.6"
  }
 },
 "nbformat": 4,
 "nbformat_minor": 5
}

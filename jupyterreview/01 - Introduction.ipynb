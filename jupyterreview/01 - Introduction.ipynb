{
 "cells": [
  {
   "cell_type": "markdown",
   "id": "e0af98be-4f99-458b-a95f-d0743b924f1a",
   "metadata": {},
   "source": [
    "# Python/Jupyter Review\n",
    "\n",
    "## Introduction"
   ]
  },
  {
   "cell_type": "markdown",
   "id": "9fbf8eb7-c31f-472a-9b78-d633938034e6",
   "metadata": {},
   "source": [
    "The purpose of this document is to do a high level review of the current patterns we use when writing jupyter notebooks.  We will try to touch on the whats, and the whys, and to cover some of the standard paterns and techniques you will see throughout the software stack that we have created.\n",
    "\n",
    "We will start in this document by reviewing the high level concepts of why we use python, why and how we use jupyter notebooks, and the basic structure of nearly every notebook we have ever written.\n",
    "\n",
    "Future installments of this series will then cover these basic structural elements, with deep dives into some of the core coding techniques you will see.  Finally, we may do a quick review of some of the reusable libraries we have created over the last few years."
   ]
  },
  {
   "cell_type": "markdown",
   "id": "bd5bf8b2-601e-457c-a747-e07d8b9f6231",
   "metadata": {},
   "source": [
    "## Why Code?\n",
    "\n",
    "The first question someone trying to understand our way of doing things may ask is 'why do you write code?' \n",
    "\n",
    "Software development is an incredibly versatile tool in the toolbox of problem-solving techniques. At its core, it involves creating a machine (the program) that performs a desired task in an automated, reliable, and efficient manner. And this is where the first benefit comes into picture - automation. Writing your own code can greatly reduce repetitive tasks, freeing up your time for more complex problems that truly require your expertise.\n",
    "\n",
    "Another significant advantage is customization. When you write your own code, you have complete control over what it does and how it does it. This means you can tailor the solution specifically to your problem without having to work around the constraints of pre-existing software. If your requirements change, you can modify your code accordingly, providing a level of flexibility rarely found in off-the-shelf software.\n",
    "\n",
    "Writing your own code also fosters a deeper understanding of the problem at hand. The process forces you to break down the problem into smaller, manageable chunks, which often leads to valuable insights. Furthermore, it allows for the iterative development, testing, and improvement of the code which can offer continuous learning and understanding of the problem being addressed.\n",
    "\n",
    "Additionally, writing your own software can often be a more cost-effective solution in the long run. While it requires an upfront investment of time, the ability to adapt to changing needs, and the avoidance of ongoing licensing fees can ultimately lead to significant savings.\n",
    "\n",
    "Lastly, problem-solving with self-written code can greatly improve the reliability and consistency of the solution. Since you write and control every aspect of the code, you can optimize its performance and improve its reliability based on your problem’s intricacies.  Similarly, code makes your solution more provable and auditable.  If someone asks you how you solved the problem and all you have is some hand written notes and a final excel spreadsheet, its hard to explain. The software you wrote, on the other hand, provides a replicable environment where you can show exactly how every step was done.\n",
    "\n",
    "Writing code comes with its challenges, its benefits in terms of automation, customization, deep problem understanding, cost-effectiveness, and reliability make it a worthwhile skill and a powerful approach to problem-solving."
   ]
  },
  {
   "cell_type": "markdown",
   "source": [
    "## Why Python?\n",
    "\n",
    "We have chosen to do all of our programming in python, for several reasons.\n",
    "\n",
    "Python is a very popular language and is a great choice for engineers who are starting to delve into the world of programming.\n",
    "\n",
    "Firstly, Python is known for its simplicity and readability which makes it an excellent language for beginners. It is designed to be easy to understand and write, meaning that engineers can focus more on problem-solving and less on understanding complex syntax. Its straightforward syntax often feels intuitive, making code easy to write and read.\n",
    "\n",
    "Moreover, Python is a high-level language, which means a lot of the complex tasks are handled automatically by the language itself - memory management is a prime example. This allows engineers to focus solely on finding solutions to their problems without needing to understand the intricate details of how the computer works.\n",
    "\n",
    "Python also excels in terms of flexibility. It supports a variety of programming paradigms, be it procedural, object-oriented, or functional programming. This makes Python a versatile tool, capable of handling a vast array of problems. It allows engineers to approach problem-solving in a manner that aligns with their unique way of thinking.\n",
    "\n",
    "Another major advantage of Python comes from its extensive standard library and plethora of third-party packages. These resources provide readily available tools and functions for various different tasks such as numerical computation, data analysis, and visualization. This significantly reduces the amount of code that engineers have to write on their own.\n",
    "\n",
    "Lastly, Python has a large and active community. As a beginner, you'll have access to countless tutorials, guides, and forums to learn from. If you run into a problem, chances are that someone else has already faced it and a solution is already available online.\n"
   ],
   "metadata": {
    "collapsed": false
   },
   "id": "fee2a34cfffa92e7"
  },
  {
   "cell_type": "markdown",
   "source": [
    "## Why Jupyter?\n",
    "\n",
    "Most of our python code is written in the form of a Jupyter Notebook.  \n",
    "\n",
    "Jupyter Notebooks are an extremely valuable tool and are particularly useful for engineers who wish to carry out and present their problem-solving processes in an intuitive, organized manner.\n",
    "\n",
    "At its core, a Jupyter Notebook is an open-source web application that allows you to combine code (e.g., python or R), rich text elements (like paragraphs, equations, figures, and links), and visual outputs into a single interactive document, or notebook. It provides an environment where you can write code, run it, look at the result, modify the code and repeat the process in a very visual and interactive way. This makes it an excellent tool for data analysis and visualization, numerical simulation, statistical modeling, and machine learning.\n",
    "\n",
    "One of the main benefits of Jupyter Notebooks is their interactivity. Each code cell in a notebook can be run independently, and the output is displayed immediately beneath the cell. This allows engineers to break down their problem-solving process into manageable steps, iteratively developing, testing, and refining their code.\n",
    "\n",
    "Additionally, that live code, visualizations, and narrative text are all seamlessly integrated within the notebook makes it a powerful tool for both developing and communicating technical content. Engineers can embed visualizations of results, data, or simulations directly into their notebooks. They can also document their thought process and problem-solving approach with comprehensive narratives and technical information. This is particularly useful for collaborative projects, where clearly communicated processes allow for smoothly shared workflows among team members.\n",
    "\n",
    "Furthermore, Jupyter Notebooks offer support for a multitude of programming languages including Python, R, Julia, and Scala, among others. Even within a single notebook, you can run code in different languages. This flexibility in language choice allows engineers to pick the most suitable language to tackle their specific engineering problem. We decided to centralize around Python, but the option is always there to move to other languages if you find it appropriate.\n",
    "\n",
    "Moreover, Jupyter notebooks are practical for prototyping and experimentation. You can easily change the input parameters of your code and see the results in real-time. They also have a useful feature that allows you to implement sliders, buttons, and other interactive elements in just a few lines of code.  This is not often really needed, but it is possible.\n",
    "\n",
    "In essence, Jupyter Notebooks are a very suitable platform for engineers as they facilitate interactive and iterative problem-solving, provide an intuitive platform for documenting and sharing your work, and support multiple programming languages."
   ],
   "metadata": {
    "collapsed": false
   },
   "id": "fdcbca0ee6be0f97"
  },
  {
   "cell_type": "markdown",
   "source": [
    "## Why Pandas?\n",
    "\n",
    "Pandas is a powerful, open-source data manipulation library, and its main workhorse is the DataFrame, a two-dimensional labeled data structure, very much like a standard table in a relational database or a spreadsheet page.\n",
    "\n",
    "Standardizing data representation in the form of a Pandas DataFrame brings about many benefits. Firstly, with its labeled axes (rows and columns), data in a DataFrame is intuitively structured and easily accessible. You can select, manipulate and analyze data by referring to its row and column names, making the code easier to write and understand.\n",
    "\n",
    "Pandas also offers a wealth of data manipulation capabilities. From easy handling of missing data to automatic alignment of differently indexed data; from reshaping of datasets to merging and joining datasets; from flexible aggregating functions to powerful data filtering capabilities, DataFrames come equipped with functionalities to efficiently handle a wide range of common data manipulation needs.\n",
    "\n",
    "DataFrames are also adept at handling large datasets. Whether you're dealing with hundreds or millions of entries, DataFrames provide fast and efficient data manipulation. This is particularly beneficial considering that the scale of data in the engineering field can be substantial.\n",
    "\n",
    "Additionally, Pandas DataFrames work extraordinarily well with other popular Python libraries used for statistical analysis, data visualization, and machine learning. For instance, with just a few lines of code, you can plot your data directly from the DataFrame using Matplotlib, or apply machine learning algorithms to your DataFrame using Scikit-learn.\n",
    "\n",
    "Pandas also shines in its ability to read and write data in a wide variety of formats including CSV, Excel, Parquet files, SQL databases, and more. So no matter where you're sourcing your data from, or where you need to send your results to, Pandas can bridge the gap effortlessly.\n",
    "\n",
    "Lastly, by standardizing on using Pandas DataFrames, engineers ensure a level of consistency across their codebases. This consistency leads to more readable, maintainable code, and enables better collaboration between different engineers on a team.\n",
    "\n",
    "By providing an intuitive, flexible, and powerful data structure that integrates well with other libraries, works efficiently with large datasets, and supports a wide variety of data formats, Pandas DataFrames are a compelling choice for standardizing primary data representation in the engineering field."
   ],
   "metadata": {
    "collapsed": false
   },
   "id": "7a08ed6a43529f86"
  },
  {
   "cell_type": "markdown",
   "source": [
    "## How does any of this apply to Network Engineering and APM?\n",
    "\n",
    "Network engineers often deal with complex systems and large volumes of data. Standardizing on tools like Python, Jupyter, and Pandas can provide significant benefits to these professionals, especially when troubleshooting obscure networking issues and application performance problems.\n",
    "\n",
    "First, Python is a powerful and flexible language that includes numerous libraries developed specifically for network interaction and data analysis. Libraries such as Scapy, Netmiko or NAPALM can provide valuable tools for probing, communicating with, and managing network devices. For decomposition of network packets and detecting anomalies, Scapy offers an interactive environment to capture, analyze network traffic, and implement new protocols.\n",
    "\n",
    "Jupyter notebooks, with their capacity for interactive and iterative problem solving, are ideally suited to performance debugging and network troubleshooting. They allow engineers to document each step of their problem-solving process, making it easier to identify when and where issues may have arisen. This documentation can also serve as a valuable learning resource or a reproducible test case for future instances of similar issues.\n",
    "\n",
    "Pandas’ powerful data manipulation capabilities offer significant advantages in a networking context. Network engineers often work with large log files and network trace data. In Pandas, data from these files can be loaded, cleaned, manipulated, and analyzed effectively. The ability to handle time-series data is particularly noteworthy as it's a common format in network logs.\n",
    "\n",
    "Moreover, other packages in the Python ecosystem such as Matplotlib and Seaborn can take dataframes as inputs to generate insightful visualizations of network traffic, aiding in identifying patterns, trends, or anomalies that might be affecting application performance.\n",
    "\n",
    "By standardizing on Python, Jupyter, and Pandas, network engineers can utilize a versatile, powerful set of tools that enhance their ability to proactively manage, troubleshoot, and document complex network systems, while improving workflow efficiency and collaboration. The amalgamation of these tools provides a streamlined workflow that can handle anything from data collection to problem resolution and communication of results."
   ],
   "metadata": {
    "collapsed": false
   },
   "id": "fc34afc88e45bbe8"
  },
  {
   "cell_type": "code",
   "execution_count": null,
   "outputs": [],
   "source": [],
   "metadata": {
    "collapsed": false,
    "ExecuteTime": {
     "end_time": "2023-12-20T18:39:15.539891402Z",
     "start_time": "2023-12-20T18:39:15.539512018Z"
    }
   },
   "id": "fab873b46c0649ca"
  }
 ],
 "metadata": {
  "kernelspec": {
   "display_name": "Python 3 (ipykernel)",
   "language": "python",
   "name": "python3"
  },
  "language_info": {
   "codemirror_mode": {
    "name": "ipython",
    "version": 3
   },
   "file_extension": ".py",
   "mimetype": "text/x-python",
   "name": "python",
   "nbconvert_exporter": "python",
   "pygments_lexer": "ipython3",
   "version": "3.11.6"
  }
 },
 "nbformat": 4,
 "nbformat_minor": 5
}

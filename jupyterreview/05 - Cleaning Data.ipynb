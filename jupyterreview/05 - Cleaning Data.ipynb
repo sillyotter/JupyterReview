{
 "cells": [
  {
   "cell_type": "markdown",
   "source": [
    "# Cleaning Data\n",
    "\n",
    "Earlier, we mentioned that most of our notebooks, and even some of our individual cells, follow a fairly standard pattern:\n",
    "\n",
    "1. Read Data\n",
    "2. **Clean Data**\n",
    "3. Filter Data\n",
    "4. Process Data\n",
    "5. Output Data\n",
    "\n",
    "This article will be about cleaning data."
   ],
   "metadata": {
    "collapsed": false
   },
   "id": "15e970559c2499e3"
  },
  {
   "cell_type": "markdown",
   "source": [
    "If you find your self reading from external data sources, you can often not have any idea what the format of the data is.  Certain file formats save data with no extra metadata about the contents, and everything is just ascii text.  When reading this kind of data into pandas, care must be taken.\n",
    "\n",
    "You will of course need to read the data by hand, in a text editor, for instance, inorder to get an idea of the structure of things like a CSV or Excel file.  \n",
    "\n",
    "Below is a list of common data cleaning operations that are often performed when loading external data into a Pandas DataFrame:\n",
    "\n",
    "1. Eliminate Unwanted Observations:\n",
    "    * Duplicate Values: Remove repeated entries that may have occurred during data collection.\n",
    "    * Irrelevant Observations: Remove data that doesn't fit the specific problem that you're trying to solve.\n",
    "\n",
    "2. Error Correction:\n",
    "    * Typos, capitalization inconsistencies, and mislabeled classes may need to be corrected.\n",
    "\n",
    "3. Formatting corrections:\n",
    "    * Dates and other special types of data can often be read as strings, and may need parsing and conversion to the appropriate format.\n",
    "\n",
    "4. Handle Missing Data:\n",
    "    * Pandas typically represents missing data with NaN values which can cause problems with analytics operations.\n",
    "    * This can be resolved by ways such as deleting observations, replacing with 0 or any relevant value, or imputation (Filling NaN values using methods like `fillna()`, `interpolate()`, or with statistical measures like `mean`, `median` etc.)\n",
    "    * Occasionally, the use of the `bfill` and `ffill` (back-fill and forward-fill) methods can fill in missing values with the previous or next valid value. \n",
    "\n",
    "5. Addressing Text Data:\n",
    "    * Text data typically requires extra steps in order to prepare it for modeling, like lowercasing, stemming, lemmatization, stop words removal, and vectorization.\n",
    "\n",
    "6. Normalization and Standardization:\n",
    "    * It's often helpful to scale numeric variables to bring them onto the same scale, which can improve the performance of certain algorithms.\n",
    "\n",
    "7. Encode Categorical Variables:\n",
    "    * Many machine learning models require the input data to be numerical. If your dataset includes categorical data, you may need to encode these categories as numbers.\n",
    "\n",
    "8. Type coercion:\n",
    "    * When reading data in from the outside world, often the types will be unclear to pandas.  Some times it can figure it out with a little bit of help, some times it needs a lot of help.  It is often useful to avoid trying to get pandas to calculate the right types until you have done many of the previous steps in cleaning the data.  By removing spare '#Empty' tags from a column and replacing them with None's, it may be more clear to the pandas engines that that column was a float, and not a string. \n",
    "\n",
    "9. Feature Engineering:\n",
    "    * Depending on the problem, you might benefit from creating new features based on existing ones, for example, extracting the day of the week from a date, or the domain from an email address.\n",
    "\n",
    "10. Setting Appropriate Index:\n",
    "    * Sometimes it's better to have a specific column set as an index for the DataFrame.\n",
    "\n",
    "Data cleaning is a critical step in the data preprocessing pipeline. It sets the stage for the exploratory data analysis and modeling stages that follow. The quality of the data cleaning and preprocessing can often significantly impact the outcomes of the subsequent analysis or model development stages.\n",
    "\n",
    "As a general pattern, cleaning up the textual representation, dealing with illegal or missing values, and fixing spelling, should come first, with type coercion coming last."
   ],
   "metadata": {
    "collapsed": false
   },
   "id": "2fede754d2837573"
  },
  {
   "cell_type": "markdown",
   "source": [
    "## Detailed Examples\n",
    "\n",
    "Lets take a look at some examples of data that needs cleaned, and the pandas techniques and functions that we use to clean data."
   ],
   "metadata": {
    "collapsed": false
   },
   "id": "eca088c1444333a7"
  },
  {
   "cell_type": "markdown",
   "source": [
    "### Load Data\n",
    "\n",
    "Lets load up some fake data to start with."
   ],
   "metadata": {
    "collapsed": false
   },
   "id": "6c0b207eedfb5dcd"
  },
  {
   "cell_type": "code",
   "execution_count": 1,
   "outputs": [
    {
     "data": {
      "text/plain": "     a    b    c    d\n0  NaN  1.0  1.0    1\n1  2.0  2.0  2.0    2\n2  3.0  3.0  NaN    3\n3  4.0  4.0  4.0    4\n4  5.0  NaN  5.0    5\n5  6.0  6.0  6.0  YYY\n6  7.0  7.0  7.0  XXX",
      "text/html": "<div>\n<style scoped>\n    .dataframe tbody tr th:only-of-type {\n        vertical-align: middle;\n    }\n\n    .dataframe tbody tr th {\n        vertical-align: top;\n    }\n\n    .dataframe thead th {\n        text-align: right;\n    }\n</style>\n<table border=\"1\" class=\"dataframe\">\n  <thead>\n    <tr style=\"text-align: right;\">\n      <th></th>\n      <th>a</th>\n      <th>b</th>\n      <th>c</th>\n      <th>d</th>\n    </tr>\n  </thead>\n  <tbody>\n    <tr>\n      <th>0</th>\n      <td>NaN</td>\n      <td>1.0</td>\n      <td>1.0</td>\n      <td>1</td>\n    </tr>\n    <tr>\n      <th>1</th>\n      <td>2.0</td>\n      <td>2.0</td>\n      <td>2.0</td>\n      <td>2</td>\n    </tr>\n    <tr>\n      <th>2</th>\n      <td>3.0</td>\n      <td>3.0</td>\n      <td>NaN</td>\n      <td>3</td>\n    </tr>\n    <tr>\n      <th>3</th>\n      <td>4.0</td>\n      <td>4.0</td>\n      <td>4.0</td>\n      <td>4</td>\n    </tr>\n    <tr>\n      <th>4</th>\n      <td>5.0</td>\n      <td>NaN</td>\n      <td>5.0</td>\n      <td>5</td>\n    </tr>\n    <tr>\n      <th>5</th>\n      <td>6.0</td>\n      <td>6.0</td>\n      <td>6.0</td>\n      <td>YYY</td>\n    </tr>\n    <tr>\n      <th>6</th>\n      <td>7.0</td>\n      <td>7.0</td>\n      <td>7.0</td>\n      <td>XXX</td>\n    </tr>\n  </tbody>\n</table>\n</div>"
     },
     "execution_count": 1,
     "metadata": {},
     "output_type": "execute_result"
    }
   ],
   "source": [
    "import pandas as pd\n",
    "import numpy as np\n",
    "\n",
    "data = pd.read_csv('data/cleaning_example_01.csv')\n",
    "data"
   ],
   "metadata": {
    "collapsed": false,
    "ExecuteTime": {
     "end_time": "2023-12-20T18:39:07.197697175Z",
     "start_time": "2023-12-20T18:39:06.890076129Z"
    }
   },
   "id": "65cd5e2d3d4b41b6"
  },
  {
   "cell_type": "markdown",
   "source": [
    "Lets see what the basic data looks like."
   ],
   "metadata": {
    "collapsed": false
   },
   "id": "fa1878af449a6a21"
  },
  {
   "cell_type": "code",
   "execution_count": 2,
   "outputs": [
    {
     "name": "stdout",
     "output_type": "stream",
     "text": [
      "<class 'pandas.core.frame.DataFrame'>\n",
      "RangeIndex: 7 entries, 0 to 6\n",
      "Data columns (total 4 columns):\n",
      " #   Column  Non-Null Count  Dtype  \n",
      "---  ------  --------------  -----  \n",
      " 0   a       6 non-null      float64\n",
      " 1   b       6 non-null      float64\n",
      " 2   c       6 non-null      float64\n",
      " 3   d       7 non-null      object \n",
      "dtypes: float64(3), object(1)\n",
      "memory usage: 356.0+ bytes\n"
     ]
    }
   ],
   "source": [
    "data.info()"
   ],
   "metadata": {
    "collapsed": false,
    "ExecuteTime": {
     "end_time": "2023-12-20T18:39:07.200873288Z",
     "start_time": "2023-12-20T18:39:07.176604565Z"
    }
   },
   "id": "6c9a24da4fdbbba1"
  },
  {
   "cell_type": "markdown",
   "source": [
    "Notice that the column `d` is listed of type object.  This is because that particular column contained both numbers and strings, and so it doesn't know what else to do with it.  This will come up shortly."
   ],
   "metadata": {
    "collapsed": false
   },
   "id": "577c99da4a0c0f26"
  },
  {
   "cell_type": "markdown",
   "source": [
    "### Cleaning up bad text\n",
    "\n",
    "The data we loaded up has some mistaken text in one of the column, so lets get rid of it.  Here, we replace it with the NaN value."
   ],
   "metadata": {
    "collapsed": false
   },
   "id": "1f8aff8697ef8152"
  },
  {
   "cell_type": "code",
   "execution_count": 3,
   "outputs": [
    {
     "data": {
      "text/plain": "     a    b    c    d\n0  NaN  1.0  1.0    1\n1  2.0  2.0  2.0    2\n2  3.0  3.0  NaN    3\n3  4.0  4.0  4.0    4\n4  5.0  NaN  5.0    5\n5  6.0  6.0  6.0  NaN\n6  7.0  7.0  7.0  NaN",
      "text/html": "<div>\n<style scoped>\n    .dataframe tbody tr th:only-of-type {\n        vertical-align: middle;\n    }\n\n    .dataframe tbody tr th {\n        vertical-align: top;\n    }\n\n    .dataframe thead th {\n        text-align: right;\n    }\n</style>\n<table border=\"1\" class=\"dataframe\">\n  <thead>\n    <tr style=\"text-align: right;\">\n      <th></th>\n      <th>a</th>\n      <th>b</th>\n      <th>c</th>\n      <th>d</th>\n    </tr>\n  </thead>\n  <tbody>\n    <tr>\n      <th>0</th>\n      <td>NaN</td>\n      <td>1.0</td>\n      <td>1.0</td>\n      <td>1</td>\n    </tr>\n    <tr>\n      <th>1</th>\n      <td>2.0</td>\n      <td>2.0</td>\n      <td>2.0</td>\n      <td>2</td>\n    </tr>\n    <tr>\n      <th>2</th>\n      <td>3.0</td>\n      <td>3.0</td>\n      <td>NaN</td>\n      <td>3</td>\n    </tr>\n    <tr>\n      <th>3</th>\n      <td>4.0</td>\n      <td>4.0</td>\n      <td>4.0</td>\n      <td>4</td>\n    </tr>\n    <tr>\n      <th>4</th>\n      <td>5.0</td>\n      <td>NaN</td>\n      <td>5.0</td>\n      <td>5</td>\n    </tr>\n    <tr>\n      <th>5</th>\n      <td>6.0</td>\n      <td>6.0</td>\n      <td>6.0</td>\n      <td>NaN</td>\n    </tr>\n    <tr>\n      <th>6</th>\n      <td>7.0</td>\n      <td>7.0</td>\n      <td>7.0</td>\n      <td>NaN</td>\n    </tr>\n  </tbody>\n</table>\n</div>"
     },
     "execution_count": 3,
     "metadata": {},
     "output_type": "execute_result"
    }
   ],
   "source": [
    "data2 = (\n",
    "    data\n",
    "    .replace('XXX', np.NaN)\n",
    "    .replace('YYY', np.NaN)\n",
    ")\n",
    "\n",
    "data2"
   ],
   "metadata": {
    "collapsed": false,
    "ExecuteTime": {
     "end_time": "2023-12-20T18:39:07.201553877Z",
     "start_time": "2023-12-20T18:39:07.176844333Z"
    }
   },
   "id": "34940c952da836a4"
  },
  {
   "cell_type": "markdown",
   "source": [
    "The replace method has a version where you can do regular expression replacement across a data frame (or column) which is quite useful."
   ],
   "metadata": {
    "collapsed": false
   },
   "id": "dc8f3a42706d4a49"
  },
  {
   "cell_type": "markdown",
   "source": [
    "Note that in this new form, the data shows a Nan above, but it still thinks the column is an object.  "
   ],
   "metadata": {
    "collapsed": false
   },
   "id": "72dd0090b59ac2da"
  },
  {
   "cell_type": "code",
   "execution_count": 4,
   "outputs": [
    {
     "name": "stdout",
     "output_type": "stream",
     "text": [
      "<class 'pandas.core.frame.DataFrame'>\n",
      "RangeIndex: 7 entries, 0 to 6\n",
      "Data columns (total 4 columns):\n",
      " #   Column  Non-Null Count  Dtype  \n",
      "---  ------  --------------  -----  \n",
      " 0   a       6 non-null      float64\n",
      " 1   b       6 non-null      float64\n",
      " 2   c       6 non-null      float64\n",
      " 3   d       5 non-null      object \n",
      "dtypes: float64(3), object(1)\n",
      "memory usage: 356.0+ bytes\n"
     ]
    }
   ],
   "source": [
    "data2.info()"
   ],
   "metadata": {
    "collapsed": false,
    "ExecuteTime": {
     "end_time": "2023-12-20T18:39:07.201997193Z",
     "start_time": "2023-12-20T18:39:07.177018796Z"
    }
   },
   "id": "cda6b52cc862bb7c"
  },
  {
   "cell_type": "markdown",
   "source": [
    "While not a huge issue yet, lets see if the built in convert_dtype method can convert that column to an Int64 column like the others did"
   ],
   "metadata": {
    "collapsed": false
   },
   "id": "f813a6bee0b183f"
  },
  {
   "cell_type": "code",
   "execution_count": 5,
   "outputs": [
    {
     "data": {
      "text/plain": "      a     b     c     d\n0  <NA>     1     1     1\n1     2     2     2     2\n2     3     3  <NA>     3\n3     4     4     4     4\n4     5  <NA>     5     5\n5     6     6     6  <NA>\n6     7     7     7  <NA>",
      "text/html": "<div>\n<style scoped>\n    .dataframe tbody tr th:only-of-type {\n        vertical-align: middle;\n    }\n\n    .dataframe tbody tr th {\n        vertical-align: top;\n    }\n\n    .dataframe thead th {\n        text-align: right;\n    }\n</style>\n<table border=\"1\" class=\"dataframe\">\n  <thead>\n    <tr style=\"text-align: right;\">\n      <th></th>\n      <th>a</th>\n      <th>b</th>\n      <th>c</th>\n      <th>d</th>\n    </tr>\n  </thead>\n  <tbody>\n    <tr>\n      <th>0</th>\n      <td>&lt;NA&gt;</td>\n      <td>1</td>\n      <td>1</td>\n      <td>1</td>\n    </tr>\n    <tr>\n      <th>1</th>\n      <td>2</td>\n      <td>2</td>\n      <td>2</td>\n      <td>2</td>\n    </tr>\n    <tr>\n      <th>2</th>\n      <td>3</td>\n      <td>3</td>\n      <td>&lt;NA&gt;</td>\n      <td>3</td>\n    </tr>\n    <tr>\n      <th>3</th>\n      <td>4</td>\n      <td>4</td>\n      <td>4</td>\n      <td>4</td>\n    </tr>\n    <tr>\n      <th>4</th>\n      <td>5</td>\n      <td>&lt;NA&gt;</td>\n      <td>5</td>\n      <td>5</td>\n    </tr>\n    <tr>\n      <th>5</th>\n      <td>6</td>\n      <td>6</td>\n      <td>6</td>\n      <td>&lt;NA&gt;</td>\n    </tr>\n    <tr>\n      <th>6</th>\n      <td>7</td>\n      <td>7</td>\n      <td>7</td>\n      <td>&lt;NA&gt;</td>\n    </tr>\n  </tbody>\n</table>\n</div>"
     },
     "execution_count": 5,
     "metadata": {},
     "output_type": "execute_result"
    }
   ],
   "source": [
    "data3 = (\n",
    "    data2\n",
    "    .convert_dtypes()\n",
    ")\n",
    "data3"
   ],
   "metadata": {
    "collapsed": false,
    "ExecuteTime": {
     "end_time": "2023-12-20T18:39:07.233305332Z",
     "start_time": "2023-12-20T18:39:07.181021416Z"
    }
   },
   "id": "9fdd56831dc29970"
  },
  {
   "cell_type": "code",
   "execution_count": 6,
   "outputs": [
    {
     "name": "stdout",
     "output_type": "stream",
     "text": [
      "<class 'pandas.core.frame.DataFrame'>\n",
      "RangeIndex: 7 entries, 0 to 6\n",
      "Data columns (total 4 columns):\n",
      " #   Column  Non-Null Count  Dtype \n",
      "---  ------  --------------  ----- \n",
      " 0   a       6 non-null      Int64 \n",
      " 1   b       6 non-null      Int64 \n",
      " 2   c       6 non-null      Int64 \n",
      " 3   d       5 non-null      string\n",
      "dtypes: Int64(3), string(1)\n",
      "memory usage: 377.0 bytes\n"
     ]
    }
   ],
   "source": [
    "data3.info()"
   ],
   "metadata": {
    "collapsed": false,
    "ExecuteTime": {
     "end_time": "2023-12-20T18:39:07.246784891Z",
     "start_time": "2023-12-20T18:39:07.202919042Z"
    }
   },
   "id": "5318392614c4734d"
  },
  {
   "cell_type": "markdown",
   "source": [
    "Oddly, it seems to now think its a string.  This can happen, the automatic tools try to do the right thing for you, but it cant always do so.  So lets see if we can patch it up by manually setting the type."
   ],
   "metadata": {
    "collapsed": false
   },
   "id": "e1159c9da75c3003"
  },
  {
   "cell_type": "code",
   "execution_count": 7,
   "outputs": [
    {
     "data": {
      "text/plain": "      a     b     c     d\n0  <NA>     1     1     1\n1     2     2     2     2\n2     3     3  <NA>     3\n3     4     4     4     4\n4     5  <NA>     5     5\n5     6     6     6  <NA>\n6     7     7     7  <NA>",
      "text/html": "<div>\n<style scoped>\n    .dataframe tbody tr th:only-of-type {\n        vertical-align: middle;\n    }\n\n    .dataframe tbody tr th {\n        vertical-align: top;\n    }\n\n    .dataframe thead th {\n        text-align: right;\n    }\n</style>\n<table border=\"1\" class=\"dataframe\">\n  <thead>\n    <tr style=\"text-align: right;\">\n      <th></th>\n      <th>a</th>\n      <th>b</th>\n      <th>c</th>\n      <th>d</th>\n    </tr>\n  </thead>\n  <tbody>\n    <tr>\n      <th>0</th>\n      <td>&lt;NA&gt;</td>\n      <td>1</td>\n      <td>1</td>\n      <td>1</td>\n    </tr>\n    <tr>\n      <th>1</th>\n      <td>2</td>\n      <td>2</td>\n      <td>2</td>\n      <td>2</td>\n    </tr>\n    <tr>\n      <th>2</th>\n      <td>3</td>\n      <td>3</td>\n      <td>&lt;NA&gt;</td>\n      <td>3</td>\n    </tr>\n    <tr>\n      <th>3</th>\n      <td>4</td>\n      <td>4</td>\n      <td>4</td>\n      <td>4</td>\n    </tr>\n    <tr>\n      <th>4</th>\n      <td>5</td>\n      <td>&lt;NA&gt;</td>\n      <td>5</td>\n      <td>5</td>\n    </tr>\n    <tr>\n      <th>5</th>\n      <td>6</td>\n      <td>6</td>\n      <td>6</td>\n      <td>&lt;NA&gt;</td>\n    </tr>\n    <tr>\n      <th>6</th>\n      <td>7</td>\n      <td>7</td>\n      <td>7</td>\n      <td>&lt;NA&gt;</td>\n    </tr>\n  </tbody>\n</table>\n</div>"
     },
     "execution_count": 7,
     "metadata": {},
     "output_type": "execute_result"
    }
   ],
   "source": [
    "data3 = (\n",
    "    data2\n",
    "    .convert_dtypes()\n",
    "    .astype({'d': 'Int64'})\n",
    ")\n",
    "data3"
   ],
   "metadata": {
    "collapsed": false,
    "ExecuteTime": {
     "end_time": "2023-12-20T18:39:07.284824218Z",
     "start_time": "2023-12-20T18:39:07.221657900Z"
    }
   },
   "id": "50346dcfdeb3ecc0"
  },
  {
   "cell_type": "markdown",
   "source": [
    "And now its ok, its all Int64"
   ],
   "metadata": {
    "collapsed": false
   },
   "id": "a7549a4f3a6d9cde"
  },
  {
   "cell_type": "code",
   "execution_count": 8,
   "outputs": [
    {
     "name": "stdout",
     "output_type": "stream",
     "text": [
      "<class 'pandas.core.frame.DataFrame'>\n",
      "RangeIndex: 7 entries, 0 to 6\n",
      "Data columns (total 4 columns):\n",
      " #   Column  Non-Null Count  Dtype\n",
      "---  ------  --------------  -----\n",
      " 0   a       6 non-null      Int64\n",
      " 1   b       6 non-null      Int64\n",
      " 2   c       6 non-null      Int64\n",
      " 3   d       5 non-null      Int64\n",
      "dtypes: Int64(4)\n",
      "memory usage: 384.0 bytes\n"
     ]
    }
   ],
   "source": [
    "data3.info()"
   ],
   "metadata": {
    "collapsed": false,
    "ExecuteTime": {
     "end_time": "2023-12-20T18:39:07.300574100Z",
     "start_time": "2023-12-20T18:39:07.242163299Z"
    }
   },
   "id": "afd37cf5c1bb14f2"
  },
  {
   "cell_type": "markdown",
   "source": [
    "### Getting rid of missing values."
   ],
   "metadata": {
    "collapsed": false
   },
   "id": "ff8da99e6147e3c6"
  },
  {
   "cell_type": "markdown",
   "source": [
    "There are NaN values listed in several different rows of this data.  \n",
    "\n",
    "What we should do with this is up for debate and dependant on your situation but lets look at a few options."
   ],
   "metadata": {
    "collapsed": false
   },
   "id": "d8ec8411b256ce5b"
  },
  {
   "cell_type": "code",
   "execution_count": 9,
   "outputs": [
    {
     "data": {
      "text/plain": "   a  b  c  d\n0  0  1  1  1\n1  2  2  2  2\n2  3  3  0  3\n3  4  4  4  4\n4  5  0  5  5\n5  6  6  6  0\n6  7  7  7  0",
      "text/html": "<div>\n<style scoped>\n    .dataframe tbody tr th:only-of-type {\n        vertical-align: middle;\n    }\n\n    .dataframe tbody tr th {\n        vertical-align: top;\n    }\n\n    .dataframe thead th {\n        text-align: right;\n    }\n</style>\n<table border=\"1\" class=\"dataframe\">\n  <thead>\n    <tr style=\"text-align: right;\">\n      <th></th>\n      <th>a</th>\n      <th>b</th>\n      <th>c</th>\n      <th>d</th>\n    </tr>\n  </thead>\n  <tbody>\n    <tr>\n      <th>0</th>\n      <td>0</td>\n      <td>1</td>\n      <td>1</td>\n      <td>1</td>\n    </tr>\n    <tr>\n      <th>1</th>\n      <td>2</td>\n      <td>2</td>\n      <td>2</td>\n      <td>2</td>\n    </tr>\n    <tr>\n      <th>2</th>\n      <td>3</td>\n      <td>3</td>\n      <td>0</td>\n      <td>3</td>\n    </tr>\n    <tr>\n      <th>3</th>\n      <td>4</td>\n      <td>4</td>\n      <td>4</td>\n      <td>4</td>\n    </tr>\n    <tr>\n      <th>4</th>\n      <td>5</td>\n      <td>0</td>\n      <td>5</td>\n      <td>5</td>\n    </tr>\n    <tr>\n      <th>5</th>\n      <td>6</td>\n      <td>6</td>\n      <td>6</td>\n      <td>0</td>\n    </tr>\n    <tr>\n      <th>6</th>\n      <td>7</td>\n      <td>7</td>\n      <td>7</td>\n      <td>0</td>\n    </tr>\n  </tbody>\n</table>\n</div>"
     },
     "execution_count": 9,
     "metadata": {},
     "output_type": "execute_result"
    }
   ],
   "source": [
    "(\n",
    "    data3\n",
    "    .fillna(0.0)\n",
    ")"
   ],
   "metadata": {
    "collapsed": false,
    "ExecuteTime": {
     "end_time": "2023-12-20T18:39:07.301235773Z",
     "start_time": "2023-12-20T18:39:07.282614941Z"
    }
   },
   "id": "a244ca0121a2546e"
  },
  {
   "cell_type": "code",
   "execution_count": 10,
   "outputs": [
    {
     "data": {
      "text/plain": "   a  b  c  d\n1  2  2  2  2\n3  4  4  4  4",
      "text/html": "<div>\n<style scoped>\n    .dataframe tbody tr th:only-of-type {\n        vertical-align: middle;\n    }\n\n    .dataframe tbody tr th {\n        vertical-align: top;\n    }\n\n    .dataframe thead th {\n        text-align: right;\n    }\n</style>\n<table border=\"1\" class=\"dataframe\">\n  <thead>\n    <tr style=\"text-align: right;\">\n      <th></th>\n      <th>a</th>\n      <th>b</th>\n      <th>c</th>\n      <th>d</th>\n    </tr>\n  </thead>\n  <tbody>\n    <tr>\n      <th>1</th>\n      <td>2</td>\n      <td>2</td>\n      <td>2</td>\n      <td>2</td>\n    </tr>\n    <tr>\n      <th>3</th>\n      <td>4</td>\n      <td>4</td>\n      <td>4</td>\n      <td>4</td>\n    </tr>\n  </tbody>\n</table>\n</div>"
     },
     "execution_count": 10,
     "metadata": {},
     "output_type": "execute_result"
    }
   ],
   "source": [
    "(\n",
    "    data3\n",
    "    .dropna()\n",
    ")"
   ],
   "metadata": {
    "collapsed": false,
    "ExecuteTime": {
     "end_time": "2023-12-20T18:39:07.333068413Z",
     "start_time": "2023-12-20T18:39:07.282874516Z"
    }
   },
   "id": "3cd37080a1a007ee"
  },
  {
   "cell_type": "code",
   "execution_count": 11,
   "outputs": [
    {
     "data": {
      "text/plain": "     a    b    c    d\n0  NaN  1.0  1.0  1.0\n1  2.0  2.0  2.0  2.0\n2  3.0  3.0  3.0  3.0\n3  4.0  4.0  4.0  4.0\n4  5.0  5.0  5.0  5.0\n5  6.0  6.0  6.0  5.0\n6  7.0  7.0  7.0  5.0",
      "text/html": "<div>\n<style scoped>\n    .dataframe tbody tr th:only-of-type {\n        vertical-align: middle;\n    }\n\n    .dataframe tbody tr th {\n        vertical-align: top;\n    }\n\n    .dataframe thead th {\n        text-align: right;\n    }\n</style>\n<table border=\"1\" class=\"dataframe\">\n  <thead>\n    <tr style=\"text-align: right;\">\n      <th></th>\n      <th>a</th>\n      <th>b</th>\n      <th>c</th>\n      <th>d</th>\n    </tr>\n  </thead>\n  <tbody>\n    <tr>\n      <th>0</th>\n      <td>NaN</td>\n      <td>1.0</td>\n      <td>1.0</td>\n      <td>1.0</td>\n    </tr>\n    <tr>\n      <th>1</th>\n      <td>2.0</td>\n      <td>2.0</td>\n      <td>2.0</td>\n      <td>2.0</td>\n    </tr>\n    <tr>\n      <th>2</th>\n      <td>3.0</td>\n      <td>3.0</td>\n      <td>3.0</td>\n      <td>3.0</td>\n    </tr>\n    <tr>\n      <th>3</th>\n      <td>4.0</td>\n      <td>4.0</td>\n      <td>4.0</td>\n      <td>4.0</td>\n    </tr>\n    <tr>\n      <th>4</th>\n      <td>5.0</td>\n      <td>5.0</td>\n      <td>5.0</td>\n      <td>5.0</td>\n    </tr>\n    <tr>\n      <th>5</th>\n      <td>6.0</td>\n      <td>6.0</td>\n      <td>6.0</td>\n      <td>5.0</td>\n    </tr>\n    <tr>\n      <th>6</th>\n      <td>7.0</td>\n      <td>7.0</td>\n      <td>7.0</td>\n      <td>5.0</td>\n    </tr>\n  </tbody>\n</table>\n</div>"
     },
     "execution_count": 11,
     "metadata": {},
     "output_type": "execute_result"
    }
   ],
   "source": [
    "(\n",
    "    data3\n",
    "    .astype('float')\n",
    "    .interpolate('linear')\n",
    ")"
   ],
   "metadata": {
    "collapsed": false,
    "ExecuteTime": {
     "end_time": "2023-12-20T18:39:07.406347052Z",
     "start_time": "2023-12-20T18:39:07.298788281Z"
    }
   },
   "id": "b0d2a2da9f16568f"
  },
  {
   "cell_type": "code",
   "execution_count": 12,
   "outputs": [
    {
     "data": {
      "text/plain": "   a  b  c     d\n0  2  1  1     1\n1  2  2  2     2\n2  3  3  4     3\n3  4  4  4     4\n4  5  6  5     5\n5  6  6  6  <NA>\n6  7  7  7  <NA>",
      "text/html": "<div>\n<style scoped>\n    .dataframe tbody tr th:only-of-type {\n        vertical-align: middle;\n    }\n\n    .dataframe tbody tr th {\n        vertical-align: top;\n    }\n\n    .dataframe thead th {\n        text-align: right;\n    }\n</style>\n<table border=\"1\" class=\"dataframe\">\n  <thead>\n    <tr style=\"text-align: right;\">\n      <th></th>\n      <th>a</th>\n      <th>b</th>\n      <th>c</th>\n      <th>d</th>\n    </tr>\n  </thead>\n  <tbody>\n    <tr>\n      <th>0</th>\n      <td>2</td>\n      <td>1</td>\n      <td>1</td>\n      <td>1</td>\n    </tr>\n    <tr>\n      <th>1</th>\n      <td>2</td>\n      <td>2</td>\n      <td>2</td>\n      <td>2</td>\n    </tr>\n    <tr>\n      <th>2</th>\n      <td>3</td>\n      <td>3</td>\n      <td>4</td>\n      <td>3</td>\n    </tr>\n    <tr>\n      <th>3</th>\n      <td>4</td>\n      <td>4</td>\n      <td>4</td>\n      <td>4</td>\n    </tr>\n    <tr>\n      <th>4</th>\n      <td>5</td>\n      <td>6</td>\n      <td>5</td>\n      <td>5</td>\n    </tr>\n    <tr>\n      <th>5</th>\n      <td>6</td>\n      <td>6</td>\n      <td>6</td>\n      <td>&lt;NA&gt;</td>\n    </tr>\n    <tr>\n      <th>6</th>\n      <td>7</td>\n      <td>7</td>\n      <td>7</td>\n      <td>&lt;NA&gt;</td>\n    </tr>\n  </tbody>\n</table>\n</div>"
     },
     "execution_count": 12,
     "metadata": {},
     "output_type": "execute_result"
    }
   ],
   "source": [
    "(\n",
    "    data3\n",
    "    .bfill()\n",
    ")"
   ],
   "metadata": {
    "collapsed": false,
    "ExecuteTime": {
     "end_time": "2023-12-20T18:39:07.408041356Z",
     "start_time": "2023-12-20T18:39:07.339735609Z"
    }
   },
   "id": "b7dfb45cfb5125ca"
  },
  {
   "cell_type": "code",
   "execution_count": 13,
   "outputs": [
    {
     "data": {
      "text/plain": "      a  b  c  d\n0  <NA>  1  1  1\n1     2  2  2  2\n2     3  3  2  3\n3     4  4  4  4\n4     5  4  5  5\n5     6  6  6  5\n6     7  7  7  5",
      "text/html": "<div>\n<style scoped>\n    .dataframe tbody tr th:only-of-type {\n        vertical-align: middle;\n    }\n\n    .dataframe tbody tr th {\n        vertical-align: top;\n    }\n\n    .dataframe thead th {\n        text-align: right;\n    }\n</style>\n<table border=\"1\" class=\"dataframe\">\n  <thead>\n    <tr style=\"text-align: right;\">\n      <th></th>\n      <th>a</th>\n      <th>b</th>\n      <th>c</th>\n      <th>d</th>\n    </tr>\n  </thead>\n  <tbody>\n    <tr>\n      <th>0</th>\n      <td>&lt;NA&gt;</td>\n      <td>1</td>\n      <td>1</td>\n      <td>1</td>\n    </tr>\n    <tr>\n      <th>1</th>\n      <td>2</td>\n      <td>2</td>\n      <td>2</td>\n      <td>2</td>\n    </tr>\n    <tr>\n      <th>2</th>\n      <td>3</td>\n      <td>3</td>\n      <td>2</td>\n      <td>3</td>\n    </tr>\n    <tr>\n      <th>3</th>\n      <td>4</td>\n      <td>4</td>\n      <td>4</td>\n      <td>4</td>\n    </tr>\n    <tr>\n      <th>4</th>\n      <td>5</td>\n      <td>4</td>\n      <td>5</td>\n      <td>5</td>\n    </tr>\n    <tr>\n      <th>5</th>\n      <td>6</td>\n      <td>6</td>\n      <td>6</td>\n      <td>5</td>\n    </tr>\n    <tr>\n      <th>6</th>\n      <td>7</td>\n      <td>7</td>\n      <td>7</td>\n      <td>5</td>\n    </tr>\n  </tbody>\n</table>\n</div>"
     },
     "execution_count": 13,
     "metadata": {},
     "output_type": "execute_result"
    }
   ],
   "source": [
    "(\n",
    "    data3\n",
    "    .ffill()\n",
    ")"
   ],
   "metadata": {
    "collapsed": false,
    "ExecuteTime": {
     "end_time": "2023-12-20T18:39:07.479928440Z",
     "start_time": "2023-12-20T18:39:07.341953212Z"
    }
   },
   "id": "7c2aa7f726a1e341"
  },
  {
   "cell_type": "markdown",
   "source": [
    "As we have mentioned elsewhere, leaving all those spare extra intermediate dataframes around is not the best idea, and we have the ability to chain all these steps together in a single operation, to make sure they all happen in the right order.  So, while the above may be a step I would take to work out how to clean the thing, when all done, it would end up looking like this, below, with all the work in one section."
   ],
   "metadata": {
    "collapsed": false
   },
   "id": "cdbb135dc2d966a0"
  },
  {
   "cell_type": "code",
   "execution_count": 14,
   "outputs": [
    {
     "data": {
      "text/plain": "   a  b  c  d\n0  0  1  1  1\n1  2  2  2  2\n2  3  3  0  3\n3  4  4  4  4\n4  5  0  5  5\n5  6  6  6  0\n6  7  7  7  0",
      "text/html": "<div>\n<style scoped>\n    .dataframe tbody tr th:only-of-type {\n        vertical-align: middle;\n    }\n\n    .dataframe tbody tr th {\n        vertical-align: top;\n    }\n\n    .dataframe thead th {\n        text-align: right;\n    }\n</style>\n<table border=\"1\" class=\"dataframe\">\n  <thead>\n    <tr style=\"text-align: right;\">\n      <th></th>\n      <th>a</th>\n      <th>b</th>\n      <th>c</th>\n      <th>d</th>\n    </tr>\n  </thead>\n  <tbody>\n    <tr>\n      <th>0</th>\n      <td>0</td>\n      <td>1</td>\n      <td>1</td>\n      <td>1</td>\n    </tr>\n    <tr>\n      <th>1</th>\n      <td>2</td>\n      <td>2</td>\n      <td>2</td>\n      <td>2</td>\n    </tr>\n    <tr>\n      <th>2</th>\n      <td>3</td>\n      <td>3</td>\n      <td>0</td>\n      <td>3</td>\n    </tr>\n    <tr>\n      <th>3</th>\n      <td>4</td>\n      <td>4</td>\n      <td>4</td>\n      <td>4</td>\n    </tr>\n    <tr>\n      <th>4</th>\n      <td>5</td>\n      <td>0</td>\n      <td>5</td>\n      <td>5</td>\n    </tr>\n    <tr>\n      <th>5</th>\n      <td>6</td>\n      <td>6</td>\n      <td>6</td>\n      <td>0</td>\n    </tr>\n    <tr>\n      <th>6</th>\n      <td>7</td>\n      <td>7</td>\n      <td>7</td>\n      <td>0</td>\n    </tr>\n  </tbody>\n</table>\n</div>"
     },
     "execution_count": 14,
     "metadata": {},
     "output_type": "execute_result"
    }
   ],
   "source": [
    "cleaned_data = (\n",
    "    data\n",
    "    .replace('XXX', np.NaN)\n",
    "    .replace('YYY', np.NaN)\n",
    "    .convert_dtypes()\n",
    "    .astype({'d': 'Int64'})\n",
    "    .fillna(0)\n",
    ")\n",
    "\n",
    "cleaned_data"
   ],
   "metadata": {
    "collapsed": false,
    "ExecuteTime": {
     "end_time": "2023-12-20T18:39:07.480988713Z",
     "start_time": "2023-12-20T18:39:07.382596499Z"
    }
   },
   "id": "b1302020b7243be6"
  },
  {
   "cell_type": "code",
   "execution_count": 14,
   "outputs": [],
   "source": [],
   "metadata": {
    "collapsed": false,
    "ExecuteTime": {
     "end_time": "2023-12-20T18:39:07.481218342Z",
     "start_time": "2023-12-20T18:39:07.382778056Z"
    }
   },
   "id": "38c48e02420c92a4"
  }
 ],
 "metadata": {
  "kernelspec": {
   "display_name": "Python 3",
   "language": "python",
   "name": "python3"
  },
  "language_info": {
   "codemirror_mode": {
    "name": "ipython",
    "version": 2
   },
   "file_extension": ".py",
   "mimetype": "text/x-python",
   "name": "python",
   "nbconvert_exporter": "python",
   "pygments_lexer": "ipython2",
   "version": "2.7.6"
  }
 },
 "nbformat": 4,
 "nbformat_minor": 5
}

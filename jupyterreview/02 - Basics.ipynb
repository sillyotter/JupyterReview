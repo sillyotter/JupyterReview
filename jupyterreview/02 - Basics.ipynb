{
 "cells": [
  {
   "cell_type": "markdown",
   "source": [
    "# Basics"
   ],
   "metadata": {
    "collapsed": false
   },
   "id": "165b01815af4b784"
  },
  {
   "cell_type": "markdown",
   "source": [
    "## Iterative, Interactive Development Workflows\n",
    "\n",
    "A jupyter notebook is designed with a certain kind of workflow in mind.  It is not intended to be written from start to finish and then run.  It is designed for a more exploratory workflow. \n",
    "\n",
    "The interactive and iterative workflow in a Jupyter Notebook essentially involves the following steps:\n",
    "\n",
    "**Initiate a Jupyter Notebook**: This is the first step where you open a new or existing Jupyter notebook from your server's dashboard by simply clicking on the filename.\n",
    "\n",
    "**Write and Execute Code**: The core component of the Jupyter workflow is the cell. You can write some Python code in a cell and then run the code by pressing Shift+Enter. This also moves the cursor to the next cell or creates a new one if no cell is below. Ctrl+Enter can be used to run the code in the cell while keeping the cursor on the same cell.\n",
    "\n",
    "**Interact and Experiment**: After running a cell, you may not achieve the desired output in the first go. So, you modify your code, rerun the cell, and observe the output. This interactive cycle of experimentation helps in rapid prototyping and troubleshooting.\n",
    "\n",
    "**Analyze and Visualize Data**: You write code to perform data manipulations using packages like Pandas and create visualizations using libraries like Matplotlib, Plotly, etc. Results are displayed inline, immediately below the cell that produces them.\n",
    "\n",
    "**Narrate your Story**: Jupyter notebooks allow Markdown cells that enable you to write your explanations, comments, and insights along with the code. This provides context to the code and helps in creating a narrative.\n",
    "\n",
    "**Save and Share your Notebook**: Once your work is done, you can save your notebook and then share it with others as a .ipynb file which they can run on their systems. Alternatively, you can export it as a static HTML file.\n",
    "\n",
    "### Things to watch out for:\n",
    "\n",
    "**Non-Linear Execution**: In Jupyter Notebooks, the order in which cells are run is the order in which the code is interpreted. This could be potentially confusing because it allows for cells to be executed in a non-linear fashion which can lead to unexpected results.\n",
    "\n",
    "**Hidden State**: Since a Jupyter Notebook can have many cells, and cells can be executed multiple times, there can be side-effects causing hidden state issues. If a variable is updated in a cell after being defined, the change affects every cell that refers to that variable.\n",
    "\n",
    "**Notebook Size**: Large notebooks with a lot of code, data, or outputs might load slowly and can be difficult to navigate.\n",
    "\n",
    "**Sharing and Collaboration**: If you're working in a team, it can be difficult to use notebooks for collaborative coding compared to IDEs or text editors due to lack of features like real-time editing. Always refer to using version control system like Git for keeping track of changes.\n",
    "\n",
    "**Test and Debug**: Testing and debugging code in Jupyter Notebook can be challenging as compared to IDEs which have robust debugging tools."
   ],
   "metadata": {
    "collapsed": false
   },
   "id": "2ebf8d9b68064edb"
  },
  {
   "cell_type": "markdown",
   "source": [
    "## High Level Notebook Organization\n",
    "\n",
    "When you examine many of our notebooks, you will hopefully start to see some common patterns in how we approach problem solving.  All of our problems solution sessions start by acquiring data.  Next, we work with that data, cleaning it, filtering it, reshaping it, joining it to other data, and transforming it. Finally, we output the results of our work, either to file, or to visualizations (tables, graphs, etc)."
   ],
   "metadata": {
    "collapsed": false
   },
   "id": "d2ac5a3e6cbee7b0"
  },
  {
   "cell_type": "markdown",
   "source": [
    "Almost all work that we do involves the following steps in roughly this order:\n",
    "\n",
    "1. Read\n",
    "2. Clean\n",
    "3. Filter\n",
    "4. Transform\n",
    "5. Output\n",
    "\n",
    "This is true for the entire document, and often for individual calculations as well.  We will be going into each of these sections in detail as we go forward in this tutorial."
   ],
   "metadata": {
    "collapsed": false
   },
   "id": "862f36ad22e869c8"
  },
  {
   "cell_type": "markdown",
   "source": [
    "## Interpreting what we have already written\n",
    "\n",
    "If you look at others code, you may find that you see very large cells with a lot of lines of code in them.  Rest assured, these were not all written at one shot.  The iterative interactive nature of the notebook format was critical in creating that code.  Every large collection of operations in a cell you find almost certainly started out as a single line of code.  This line of code likely did no more than read in some data and display it or display the contents of already loaded data. \n",
    "\n",
    "Each line after that was the same, a single step in the chain, trying to get the results we wanted.  Each line was added, iterated on, redone, thrown out, and reworked over and over until we saw the results we wanted.  Then the next line was added, and so on.\n",
    "\n",
    "Each cell is run many time, individually.  If you find your self running the entire notebook over and over, you're' doing something wrong. \n",
    "\n",
    "The code is meant to be understood in a mostly linear way, each line by itself.  When problems occur and we are not sure what happened, we just comment out all but the first line and begin adding them back in one at a time till we see where we went wrong.\n",
    "\n",
    "This linear stacking of calls like this can make it hard to understand at first, but it is done for a reason.  Above, we discussed that jupyter notebooks introduce the possibility of cells being run out of order, a that hidden state can make it sometimes awkward to understand what is going on.  Lets discuss that a bit further.\n",
    "\n",
    "### Non-Linear Execution \n",
    "\n",
    "Non-linear execution allows cells in a Jupyter Notebook to be run in a non-sequential order which can lead to confusing results.\n",
    "\n",
    "For example, consider the following scenario:\n",
    "\n",
    "*Cell 1*\n",
    "    x = 10 \n",
    "\n",
    "*Cell 2*\n",
    "    print(x)\n",
    "     \n",
    "If you run Cell 1 first and then Cell 2, you will get the output 10, which is correct. But now, if you go back to Cell 1, change `x = 10` to `x = 20`, and then run Cell 2 again, without re-running Cell 1, it will still output 10, not 20. This is because Jupyter remembers the output from the previous execution until it's explicitly run again. This can be quite confusing for anyone reviewing or revisiting the notebook.\n",
    "\n",
    "\n",
    "### Hidden State \n",
    "\n",
    "Hidden state refers to when cells in a notebook modify the state of some variables that subsequent cells depend on.\n",
    "\n",
    "For example:\n",
    "\n",
    "*Cell 1*\n",
    "```python\n",
    "my_list = [1, 2, 3] \n",
    "```\n",
    "\n",
    "*Cell 2*\n",
    "```python\n",
    "my_list.append(4)\n",
    "print(my_list)\n",
    "```\n",
    " \n",
    "*Cell 3*\n",
    "```python\n",
    "my_list.remove(1)\n",
    "print(my_list)\n",
    "```\n",
    " \n",
    "Running them sequentially, we'll have [1, 2, 3, 4] after Cell 2 and [2, 3, 4] after Cell 3. Imagine you notice an issue in data later down in your notebook, and you decide to rerun Cell 2 without re-running Cell 1. You'll end up with [2, 3, 4, 4] instead of [1, 2, 3, 4]. This is subtle, hard to identify, and can cause unexpected issues during the analysis.\n",
    "\n",
    "To mitigate this, it is good practice to make sure every cell in your notebook can be run independently without relying on cells run before it. You should also occasionally use the \"Kernel > Restart & Run All\" feature to ensure the entire notebook runs sequentially from a clean state.  Its not needed every time, but after large changes and certainly before you ship it to someone else its a good idea to restart and run all.\n",
    "\n",
    "The other way to mitigate this is, as hinted at above, write your cells so they can be run in any order.  This in general means making sure that you do not mutate your system state in place.\n",
    "\n",
    "Lets see if an example can make this easier to understand.\n",
    "\n",
    "Lets begin by creating a pandas dataframe with a few values in it"
   ],
   "metadata": {
    "collapsed": false
   },
   "id": "f2b039a38b7277f5"
  },
  {
   "cell_type": "code",
   "execution_count": 1,
   "outputs": [],
   "source": [
    "import pandas as pd"
   ],
   "metadata": {
    "collapsed": false,
    "ExecuteTime": {
     "end_time": "2023-12-20T18:39:13.749310300Z",
     "start_time": "2023-12-20T18:39:13.526891111Z"
    }
   },
   "id": "469034e14fad6740"
  },
  {
   "cell_type": "code",
   "execution_count": 2,
   "outputs": [
    {
     "data": {
      "text/plain": "     a    b    c\n0  100  100  300\n1  200  200  400\n2  300  300  600",
      "text/html": "<div>\n<style scoped>\n    .dataframe tbody tr th:only-of-type {\n        vertical-align: middle;\n    }\n\n    .dataframe tbody tr th {\n        vertical-align: top;\n    }\n\n    .dataframe thead th {\n        text-align: right;\n    }\n</style>\n<table border=\"1\" class=\"dataframe\">\n  <thead>\n    <tr style=\"text-align: right;\">\n      <th></th>\n      <th>a</th>\n      <th>b</th>\n      <th>c</th>\n    </tr>\n  </thead>\n  <tbody>\n    <tr>\n      <th>0</th>\n      <td>100</td>\n      <td>100</td>\n      <td>300</td>\n    </tr>\n    <tr>\n      <th>1</th>\n      <td>200</td>\n      <td>200</td>\n      <td>400</td>\n    </tr>\n    <tr>\n      <th>2</th>\n      <td>300</td>\n      <td>300</td>\n      <td>600</td>\n    </tr>\n  </tbody>\n</table>\n</div>"
     },
     "execution_count": 2,
     "metadata": {},
     "output_type": "execute_result"
    }
   ],
   "source": [
    "# create dataframe\n",
    "initial_data = pd.DataFrame({'a': [100, 200, 300], 'b': [100, 200, 300], 'c': [300, 400, 600] })\n",
    "initial_data # view its contents"
   ],
   "metadata": {
    "collapsed": false,
    "ExecuteTime": {
     "end_time": "2023-12-20T18:39:13.790638204Z",
     "start_time": "2023-12-20T18:39:13.789534848Z"
    }
   },
   "id": "8fb3beff5063c428"
  },
  {
   "cell_type": "markdown",
   "source": [
    "We now have a dataframe, named `initial_data`, and it contains three columns.  Lets decide that we now want to replace column `c` with the square of the values in that column."
   ],
   "metadata": {
    "collapsed": false
   },
   "id": "5b6e1ebd069012"
  },
  {
   "cell_type": "code",
   "execution_count": 3,
   "outputs": [
    {
     "data": {
      "text/plain": "     a    b       c\n0  100  100   90000\n1  200  200  160000\n2  300  300  360000",
      "text/html": "<div>\n<style scoped>\n    .dataframe tbody tr th:only-of-type {\n        vertical-align: middle;\n    }\n\n    .dataframe tbody tr th {\n        vertical-align: top;\n    }\n\n    .dataframe thead th {\n        text-align: right;\n    }\n</style>\n<table border=\"1\" class=\"dataframe\">\n  <thead>\n    <tr style=\"text-align: right;\">\n      <th></th>\n      <th>a</th>\n      <th>b</th>\n      <th>c</th>\n    </tr>\n  </thead>\n  <tbody>\n    <tr>\n      <th>0</th>\n      <td>100</td>\n      <td>100</td>\n      <td>90000</td>\n    </tr>\n    <tr>\n      <th>1</th>\n      <td>200</td>\n      <td>200</td>\n      <td>160000</td>\n    </tr>\n    <tr>\n      <th>2</th>\n      <td>300</td>\n      <td>300</td>\n      <td>360000</td>\n    </tr>\n  </tbody>\n</table>\n</div>"
     },
     "execution_count": 3,
     "metadata": {},
     "output_type": "execute_result"
    }
   ],
   "source": [
    "initial_data = initial_data.assign(c = lambda df: df.c**2)\n",
    "initial_data"
   ],
   "metadata": {
    "collapsed": false,
    "ExecuteTime": {
     "end_time": "2023-12-20T18:39:13.791097320Z",
     "start_time": "2023-12-20T18:39:13.789794283Z"
    }
   },
   "id": "30d90a3e6c51412e"
  },
  {
   "cell_type": "markdown",
   "source": [
    "Oops, we just realized we really meant to cube the values in c.  How do we recover from this?  We cant just go back and rewrit the code to cube the data."
   ],
   "metadata": {
    "collapsed": false
   },
   "id": "d6c800d96e37ec7d"
  },
  {
   "cell_type": "code",
   "execution_count": 4,
   "outputs": [
    {
     "data": {
      "text/plain": "     a    b                  c\n0  100  100    729000000000000\n1  200  200   4096000000000000\n2  300  300  46656000000000000",
      "text/html": "<div>\n<style scoped>\n    .dataframe tbody tr th:only-of-type {\n        vertical-align: middle;\n    }\n\n    .dataframe tbody tr th {\n        vertical-align: top;\n    }\n\n    .dataframe thead th {\n        text-align: right;\n    }\n</style>\n<table border=\"1\" class=\"dataframe\">\n  <thead>\n    <tr style=\"text-align: right;\">\n      <th></th>\n      <th>a</th>\n      <th>b</th>\n      <th>c</th>\n    </tr>\n  </thead>\n  <tbody>\n    <tr>\n      <th>0</th>\n      <td>100</td>\n      <td>100</td>\n      <td>729000000000000</td>\n    </tr>\n    <tr>\n      <th>1</th>\n      <td>200</td>\n      <td>200</td>\n      <td>4096000000000000</td>\n    </tr>\n    <tr>\n      <th>2</th>\n      <td>300</td>\n      <td>300</td>\n      <td>46656000000000000</td>\n    </tr>\n  </tbody>\n</table>\n</div>"
     },
     "execution_count": 4,
     "metadata": {},
     "output_type": "execute_result"
    }
   ],
   "source": [
    "initial_data = initial_data.assign(c = lambda df: df.c**3)\n",
    "initial_data"
   ],
   "metadata": {
    "collapsed": false,
    "ExecuteTime": {
     "end_time": "2023-12-20T18:39:13.791947112Z",
     "start_time": "2023-12-20T18:39:13.789927587Z"
    }
   },
   "id": "f07836c2f7ebecf9"
  },
  {
   "cell_type": "markdown",
   "source": [
    "Doing so just cubed the already squared results.  We needed to go back to the original version of `initial_data`, but we can't, we overwrote its contents.  We have to go back and re-read the data frame back in and then cube the `c` column.  In this case, that is not a big deal, but in some cases, your dataframe may well be the results of 20 minutes worth of data base queries.  You will get tired of rerunning that pretty quickly. \n",
    "\n",
    "The trick then is to not overwrite the initial data. Load your data, possibly clean and filter it, then go about doing your changes in a separate cell and dont overwrite that hard won initial data.\n"
   ],
   "metadata": {
    "collapsed": false
   },
   "id": "104ae93b8f590d60"
  },
  {
   "cell_type": "code",
   "execution_count": 5,
   "outputs": [
    {
     "data": {
      "text/plain": "     a    b    c\n0  100  100  300\n1  200  200  400\n2  300  300  600",
      "text/html": "<div>\n<style scoped>\n    .dataframe tbody tr th:only-of-type {\n        vertical-align: middle;\n    }\n\n    .dataframe tbody tr th {\n        vertical-align: top;\n    }\n\n    .dataframe thead th {\n        text-align: right;\n    }\n</style>\n<table border=\"1\" class=\"dataframe\">\n  <thead>\n    <tr style=\"text-align: right;\">\n      <th></th>\n      <th>a</th>\n      <th>b</th>\n      <th>c</th>\n    </tr>\n  </thead>\n  <tbody>\n    <tr>\n      <th>0</th>\n      <td>100</td>\n      <td>100</td>\n      <td>300</td>\n    </tr>\n    <tr>\n      <th>1</th>\n      <td>200</td>\n      <td>200</td>\n      <td>400</td>\n    </tr>\n    <tr>\n      <th>2</th>\n      <td>300</td>\n      <td>300</td>\n      <td>600</td>\n    </tr>\n  </tbody>\n</table>\n</div>"
     },
     "execution_count": 5,
     "metadata": {},
     "output_type": "execute_result"
    }
   ],
   "source": [
    "initial_data = pd.DataFrame({'a': [100, 200, 300], 'b': [100, 200, 300], 'c': [300, 400, 600] })\n",
    "initial_data"
   ],
   "metadata": {
    "collapsed": false,
    "ExecuteTime": {
     "end_time": "2023-12-20T18:39:13.806133450Z",
     "start_time": "2023-12-20T18:39:13.790290009Z"
    }
   },
   "id": "ddb910afe5b77e84"
  },
  {
   "cell_type": "markdown",
   "source": [
    "Now that we have a good copy of initial_data, we will do our work with out corrupting the original initial_data, as shown below."
   ],
   "metadata": {
    "collapsed": false
   },
   "id": "120172254123f792"
  },
  {
   "cell_type": "code",
   "execution_count": 6,
   "outputs": [],
   "source": [
    "initial_data_2 = initial_data.assign(c = lambda df: df.c**3)"
   ],
   "metadata": {
    "collapsed": false,
    "ExecuteTime": {
     "end_time": "2023-12-20T18:39:13.892087383Z",
     "start_time": "2023-12-20T18:39:13.806041435Z"
    }
   },
   "id": "c5a2c2347c8a437d"
  },
  {
   "cell_type": "code",
   "execution_count": 7,
   "outputs": [
    {
     "data": {
      "text/plain": "     a      b          c\n0  100  10000   27000000\n1  200  40000   64000000\n2  300  90000  216000000",
      "text/html": "<div>\n<style scoped>\n    .dataframe tbody tr th:only-of-type {\n        vertical-align: middle;\n    }\n\n    .dataframe tbody tr th {\n        vertical-align: top;\n    }\n\n    .dataframe thead th {\n        text-align: right;\n    }\n</style>\n<table border=\"1\" class=\"dataframe\">\n  <thead>\n    <tr style=\"text-align: right;\">\n      <th></th>\n      <th>a</th>\n      <th>b</th>\n      <th>c</th>\n    </tr>\n  </thead>\n  <tbody>\n    <tr>\n      <th>0</th>\n      <td>100</td>\n      <td>10000</td>\n      <td>27000000</td>\n    </tr>\n    <tr>\n      <th>1</th>\n      <td>200</td>\n      <td>40000</td>\n      <td>64000000</td>\n    </tr>\n    <tr>\n      <th>2</th>\n      <td>300</td>\n      <td>90000</td>\n      <td>216000000</td>\n    </tr>\n  </tbody>\n</table>\n</div>"
     },
     "execution_count": 7,
     "metadata": {},
     "output_type": "execute_result"
    }
   ],
   "source": [
    "initial_data_3 = initial_data_2.assign(b = lambda df: df.b**2)\n",
    "initial_data_3"
   ],
   "metadata": {
    "collapsed": false,
    "ExecuteTime": {
     "end_time": "2023-12-20T18:39:13.893073866Z",
     "start_time": "2023-12-20T18:39:13.831646328Z"
    }
   },
   "id": "aeb129b181216f09"
  },
  {
   "cell_type": "code",
   "execution_count": 8,
   "outputs": [
    {
     "data": {
      "text/plain": "     a    b    c\n0  100  100  300\n1  200  200  400\n2  300  300  600",
      "text/html": "<div>\n<style scoped>\n    .dataframe tbody tr th:only-of-type {\n        vertical-align: middle;\n    }\n\n    .dataframe tbody tr th {\n        vertical-align: top;\n    }\n\n    .dataframe thead th {\n        text-align: right;\n    }\n</style>\n<table border=\"1\" class=\"dataframe\">\n  <thead>\n    <tr style=\"text-align: right;\">\n      <th></th>\n      <th>a</th>\n      <th>b</th>\n      <th>c</th>\n    </tr>\n  </thead>\n  <tbody>\n    <tr>\n      <th>0</th>\n      <td>100</td>\n      <td>100</td>\n      <td>300</td>\n    </tr>\n    <tr>\n      <th>1</th>\n      <td>200</td>\n      <td>200</td>\n      <td>400</td>\n    </tr>\n    <tr>\n      <th>2</th>\n      <td>300</td>\n      <td>300</td>\n      <td>600</td>\n    </tr>\n  </tbody>\n</table>\n</div>"
     },
     "execution_count": 8,
     "metadata": {},
     "output_type": "execute_result"
    }
   ],
   "source": [
    "initial_data"
   ],
   "metadata": {
    "collapsed": false,
    "ExecuteTime": {
     "end_time": "2023-12-20T18:39:13.952669809Z",
     "start_time": "2023-12-20T18:39:13.839651467Z"
    }
   },
   "id": "424e761c4109a7eb"
  },
  {
   "cell_type": "markdown",
   "source": [
    "Note that above we have a new `initial_data_3` and the original `initial_data` is still what it was, untouched and ready to be reworked if we realize we did something wrong.\n",
    "\n",
    "This worked by not overwriting the variable that contained our data frame.  The pandas assign function always returns a new data frame with the contents of the original dataframe but with the new column added. It does not touch the original data, but we chose to assign its output to the same name as the original data. There exist pandas functions that accept an `inplace=True` parameter which will cause them to make the changes directly to the dataframe. In both cases though, we end up with a named dataframe that points to somethig that has been irrevocably changed.  Its the changing that is the problem, not the technique.\n",
    "\n",
    "So, as a mater of self defense, the experienced pandas programmer will start to try to avoid making irrevocable changes to the data they are working with.  \n",
    "\n",
    "As show above, one technique to achieve this is to **never** use `inplace=True` unless you really know what you're doing and know it wont cause any problems, and to never overwrite your initial data.\n",
    "\n",
    "While the using of new variables is helpful, its also rather confusing.  Which of the 19 different `initial_data_#` variables was I supposed to use?  I fact, none of them, I only ever created the intermediate one so they could be further worked on.   All I really need to keep around is the final one.  All of those intermediate variables just confuse things.\n",
    "\n",
    "Fortunately, they are not really needed.  "
   ],
   "metadata": {
    "collapsed": false
   },
   "id": "2e98e334ea6906f7"
  },
  {
   "cell_type": "code",
   "execution_count": 9,
   "outputs": [
    {
     "data": {
      "text/plain": "     a      b          c\n0  100  10000   27000000\n1  200  40000   64000000\n2  300  90000  216000000",
      "text/html": "<div>\n<style scoped>\n    .dataframe tbody tr th:only-of-type {\n        vertical-align: middle;\n    }\n\n    .dataframe tbody tr th {\n        vertical-align: top;\n    }\n\n    .dataframe thead th {\n        text-align: right;\n    }\n</style>\n<table border=\"1\" class=\"dataframe\">\n  <thead>\n    <tr style=\"text-align: right;\">\n      <th></th>\n      <th>a</th>\n      <th>b</th>\n      <th>c</th>\n    </tr>\n  </thead>\n  <tbody>\n    <tr>\n      <th>0</th>\n      <td>100</td>\n      <td>10000</td>\n      <td>27000000</td>\n    </tr>\n    <tr>\n      <th>1</th>\n      <td>200</td>\n      <td>40000</td>\n      <td>64000000</td>\n    </tr>\n    <tr>\n      <th>2</th>\n      <td>300</td>\n      <td>90000</td>\n      <td>216000000</td>\n    </tr>\n  </tbody>\n</table>\n</div>"
     },
     "execution_count": 9,
     "metadata": {},
     "output_type": "execute_result"
    }
   ],
   "source": [
    "final_value = initial_data.assign(c = lambda df: df.c**3).assign(b = lambda df: df.b**2)\n",
    "final_value"
   ],
   "metadata": {
    "collapsed": false,
    "ExecuteTime": {
     "end_time": "2023-12-20T18:39:13.953476198Z",
     "start_time": "2023-12-20T18:39:13.881594716Z"
    }
   },
   "id": "1bd4ae1af6afdc24"
  },
  {
   "cell_type": "markdown",
   "source": [
    "Note above that the `.assign` method on the initial_data object returns its results.  We can see that above as we were originally assigning that result to the new variable `initial_data_2`.  But we dont have to assign it to a variable, we can just assume its there by position and apply other methods to it.  Above, we are basically saying:\n",
    " \n",
    "\"take initial data, make a new dataframe that is the same as the first one but with the `c` column overwritten by the cube of c. Then, take that new dataframe, and repeat the call to assign on it, this time replacing `b` with the square.\"\n",
    "\n",
    "Note that we didn't need to create and manage any intermediate variables, and all w ewere left with was the final value.\n",
    "\n",
    "As a side note, it is hard to read code that is hundreds of columns wide.  It would be natural to want to place each of those sequenced assign functions on a single line, but Python as a language is line oriented, and indent sensitive.  Just placing newlines between those lines wont work: \n"
   ],
   "metadata": {
    "collapsed": false
   },
   "id": "3b01faf08a552b9d"
  },
  {
   "cell_type": "code",
   "execution_count": 10,
   "outputs": [
    {
     "ename": "SyntaxError",
     "evalue": "invalid syntax (3694417565.py, line 1)",
     "output_type": "error",
     "traceback": [
      "\u001B[0;36m  Cell \u001B[0;32mIn[10], line 1\u001B[0;36m\u001B[0m\n\u001B[0;31m    final_value =\u001B[0m\n\u001B[0m                  ^\u001B[0m\n\u001B[0;31mSyntaxError\u001B[0m\u001B[0;31m:\u001B[0m invalid syntax\n"
     ]
    }
   ],
   "source": [
    "final_value = \n",
    "    initial_data\n",
    "        .assign(c = lambda df: df.c**3)\n",
    "        .assign(b = lambda df: df.b**2)"
   ],
   "metadata": {
    "collapsed": false,
    "ExecuteTime": {
     "end_time": "2023-12-20T18:39:13.957525898Z",
     "start_time": "2023-12-20T18:39:13.881785250Z"
    }
   },
   "id": "26b5de3b0f8fd5e5"
  },
  {
   "cell_type": "markdown",
   "source": [
    "We need a trick to convince python to allow us to place those newlines in there.  fortunately, python will treat anything in parentheses as a single expression and will effectively delete all the newlines from it."
   ],
   "metadata": {
    "collapsed": false
   },
   "id": "5db79d36cee4a642"
  },
  {
   "cell_type": "code",
   "execution_count": null,
   "outputs": [],
   "source": [
    "final_value = (\n",
    "    initial_data\n",
    "    .assign(c = lambda df: df.c**3)\n",
    "    .assign(b = lambda df: df.b**2)\n",
    ")\n",
    "final_value"
   ],
   "metadata": {
    "collapsed": false,
    "ExecuteTime": {
     "start_time": "2023-12-20T18:39:13.929504362Z"
    }
   },
   "id": "1ed94480cbfc73a5"
  },
  {
   "cell_type": "markdown",
   "source": [
    "Note the enclosing parentheses around the code.  This now allows us to place each chained assignment on a line by itself. \n",
    "\n",
    " \n",
    "\n",
    "## Summary\n",
    "\n",
    "This chapter was placed where it was, up front, to give you sort of a readers guide to the rest of the document. You will see, both here and in the rest of our code, these kind of 'tricks' being used.  They are done for a reason, not just to make things confusing.  We often place a lot of code in a single cell to make sure that we can guarantee that they all run together in the correct order.  We dont often overwrite our read in data so we can repeatedly iterate towards a functional result, and we often wrap these expressions in parentheses to make them easier to read.  \n",
    "\n",
    "These are all 'defensive' programming tricks.  By making it easier to read, its easier to get write. By making sure that related statements are all in the same cell and must be run in the right order, we avoid having to ever think about the errors that running cells out of order can introduce. By being careful of our systems state ( the variables we have, and what they contain) we also can avoid the entire class of errors where we accidentally and possibly out of order change the state of somethign we didnt mean to.  \n",
    "\n",
    "By writing things as we do, you can avoid wasting any time thinking about those classes of errors, and can focus your time on doing real work, not chasing down spurious errors caused by accidentally mutating some data incorrectly or running cells out of order.  With time, doing so yourself will become a habit and you wont even realize your doing it.  "
   ],
   "metadata": {
    "collapsed": false
   },
   "id": "635f4608da141b4a"
  },
  {
   "cell_type": "code",
   "execution_count": null,
   "outputs": [],
   "source": [],
   "metadata": {
    "collapsed": false,
    "ExecuteTime": {
     "start_time": "2023-12-20T18:39:13.929711358Z"
    }
   },
   "id": "3124043cb9845715"
  }
 ],
 "metadata": {
  "kernelspec": {
   "display_name": "Python 3",
   "language": "python",
   "name": "python3"
  },
  "language_info": {
   "codemirror_mode": {
    "name": "ipython",
    "version": 2
   },
   "file_extension": ".py",
   "mimetype": "text/x-python",
   "name": "python",
   "nbconvert_exporter": "python",
   "pygments_lexer": "ipython2",
   "version": "2.7.6"
  }
 },
 "nbformat": 4,
 "nbformat_minor": 5
}

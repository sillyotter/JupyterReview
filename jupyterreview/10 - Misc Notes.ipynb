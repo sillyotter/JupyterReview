{
 "cells": [
  {
   "cell_type": "markdown",
   "source": [
    "# Misc notes\n",
    "\n",
    "To finish this all up, let me just go through some hints, tips, vague suggestions and so on that you may find of some use.  In no particular order or importance, and possibly duplicating things I wrote before, here goes:\n",
    "\n",
    "* I live with the pandas documentation open at all times when writing these things.  Pandas is huge and I can't remember it all.  I have developed a pretty solid understanding of the core things discussed in this document, and I have a vague recollection of the other things, but I spend a lot of time in the docs looking at the details of even common functions, and exploring around looking for better ideas.  Dont get frustrated if you cant remember the name of the third parameter to the pandas .transform function.  No one else can either.\n",
    "* Almost all the work I have done is iterative, exploratory, and goes through many iterations.  When im all done I document them, clean them up, extract bits into functions and libraries even.  But during the development, its a mess. This is expected and totally ok.  \n",
    "* I can't entirely express how important the iterative, exploratory nature of this is.  When I want to do something, I quite often start with an empty cell and just have it display my starting raw data.  After a bit of thinking, I may have a rough idea of where I want to go, and maybe a few vague ideas of intermediate points I want to hit.  Then I start, one step at a time, adding code to non destructively change what I have towards something I want. This is really a feeling around in the dark kind of task.  Look at the data, hypothesize that some operation may get you closer to your goal, implement that, run it, and re-examine what you did, dig through docs, search stack overflow, etc. Maybe you need to rework that, maybe the function doesnt really do what you thought it did.  Keep at it.  You'll get closer with each step and sooner or later get an answer.  Then you can clean it all up after the fact and make it look like that was your plan all along.\n",
    "* Don't worry about memory usage or speed up front.  Slow correct answers are better than fast wrong ones.  If its particularly slow or you find your self really off in the weeds doing something really complex, maybe worry about it, or when your cleaning up at the end, but dont get side tracked on speed when your just starting out.  \n",
    "* There are few reasons to do anything complex.  We have a set of building blocks.  You may find a few more, but don't get side tracked trying to make interactive dashboards, guis, and the like. A notebook is your gui, and your dashboard. Anything you can do with a slider in a gui you can do with less effort with a cell in a notebook that defines the inputs to your visualization function.  Just change the numbers and rerun a few cells.  Its almost certainly less work to just redo your viz in a notebook to adjust whats being shown than to write a gui that is complex and capable enough to allow you to redefine the viz from a gui.  The notebook is the gui.  \n",
    "* I have only twice found I needed to create a class while here, and those were all in reusable support libraries.  If you find your self writing notebooks that get more complex than simple functions, you may want to rethink things.  Classes just give you more state that needs managed correctly and add complexity and places for things to go wrong.\n",
    "* Remember, our whole goal here was not to make a fancy chair making machine, but a simple toolbox of hand tools you can use to make anything you want.  \n",
    "* Do not get too hung up on reuse.  We do have reusable building blocks, some things that get used over and over in service of many different kinds of problems, but so far, I have not seen us try to solve the exact same problem more than once.  If you find your self obsessing over making a notebook or library that can do everything for you at the push of a button, you may want to reconsider.  In a years time when you finally get a similar problem, expect that you will find that you either don't remember you have a reusable tool already to go, or if you do remember it, you will find you have to rewrite a fair bit to deal with the subtle differences between these two tasks.  Making complete, correct, and reusable chair making machines are much harder than you may think, and it generally takes making chairs over and over by hand to understand all the variability.  And just about the time you think you can automate that chair production, your customers stop asking for chairs and want tables instead. Stay simple, stay flexible.\n",
    "*  We didnt discuss caching as much as I could have wanted.  In general, any of the code I have written should correctly cache data, at least for a while, but if you see data you dont think seems right, see if there is a .cache folder in your notebooks location and maybe delete it.  The caching makes the iterative exploratory work go easier over multiple sessions and system reboots, but if done wrong, you may find that your new queries fetch back old data.  \n",
    "* Think about reading up again on virtual environments and using them. Ive helped several of you to rebuild python envs from scratch due to devtools upgrades or other unknowable problems.  My virtual envs never go wrong.  It does take a bit of thought to keep track of them and activate them and manage them and update them, etc, but they are isolated environments that are largely immune to any system level damage or damage inflicted while working on a different project. They are a good defensive programming strategy to prevent you from having to worry about that as much.\n",
    "* CSV files are fine for interchange with other programs, I suppose, but not as a long term data storage format.  You loose too much detail, such as types, and even numeric precision, so think about parquet files and databases where possible.\n",
    "* This JupyterReview package was made with a virtual env management tool called poetry.  This was mostly an experiment to see how the tooling worked.  With my usual virtual env management tools, its up to you to create and manage them.  poetry does that for you, making virtual envs a bit easier. I havent done enough with it yet to fully recommend it, and you wont need it to read and even run these notebooks, but if you get bored or desperate, search python poetry on google and give it a read.  \n",
    "\n",
    "\n",
    "  \n",
    "\n"
   ],
   "metadata": {
    "collapsed": false
   },
   "id": "cd3d80f0d7887235"
  },
  {
   "cell_type": "code",
   "execution_count": null,
   "outputs": [],
   "source": [],
   "metadata": {
    "collapsed": false,
    "ExecuteTime": {
     "end_time": "2024-01-10T20:42:23.761001853Z",
     "start_time": "2024-01-10T20:42:23.718896407Z"
    }
   },
   "id": "6ca70bfd9f899fa2"
  },
  {
   "cell_type": "code",
   "execution_count": null,
   "outputs": [],
   "source": [],
   "metadata": {
    "collapsed": false,
    "ExecuteTime": {
     "end_time": "2024-01-10T20:42:23.761554197Z",
     "start_time": "2024-01-10T20:42:23.760821419Z"
    }
   },
   "id": "a6a2b984284936c5"
  }
 ],
 "metadata": {
  "kernelspec": {
   "display_name": "Python 3",
   "language": "python",
   "name": "python3"
  },
  "language_info": {
   "codemirror_mode": {
    "name": "ipython",
    "version": 2
   },
   "file_extension": ".py",
   "mimetype": "text/x-python",
   "name": "python",
   "nbconvert_exporter": "python",
   "pygments_lexer": "ipython2",
   "version": "2.7.6"
  }
 },
 "nbformat": 4,
 "nbformat_minor": 5
}
